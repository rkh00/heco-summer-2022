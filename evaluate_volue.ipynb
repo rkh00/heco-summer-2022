{
 "cells": [
  {
   "cell_type": "code",
   "execution_count": 13,
   "metadata": {},
   "outputs": [],
   "source": [
    "import os\n",
    "import numpy as np\n",
    "import pandas as pd\n",
    "\n",
    "from datetime import datetime\n",
    "from msal import PublicClientApplication\n",
    "\n",
    "import holidays\n",
    "from datetime import date\n",
    "from datetime import timedelta\n",
    "\n",
    "from cognite.client import CogniteClient\n",
    "from cognite.client.data_classes import TimeSeries, Asset\n",
    "\n",
    "import wapi # wattsights egen pakke / den må installers via `pip install wapi-python`"
   ]
  },
  {
   "cell_type": "code",
   "execution_count": 14,
   "metadata": {},
   "outputs": [],
   "source": [
    "# Log-in detaljer\n",
    "TENANT_ID = os.getenv(\"AZURE_TENANT_ID\")\n",
    "CLIENT_ID = os.getenv(\"AZURE_CLIENT_ID\")\n",
    "CDF_CLUSTER = \"az-power-no-northeurope\"\n",
    "COGNITE_PROJECT = \"heco-dev\"\n",
    "\n",
    "# Code to log-in WIHTOUT client_secret\n",
    "SCOPES = [f\"https://{CDF_CLUSTER}.cognitedata.com/.default\"]\n",
    "\n",
    "AUTHORITY_HOST_URI = \"https://login.microsoftonline.com\"\n",
    "AUTHORITY_URI = AUTHORITY_HOST_URI + \"/\" + TENANT_ID\n",
    "PORT = 53000\n",
    "\n",
    "\n",
    "def authenticate_azure():\n",
    "\n",
    "    app = PublicClientApplication(client_id=CLIENT_ID, authority=AUTHORITY_URI)\n",
    "\n",
    "    # interactive login - make sure you have http://localhost:port in Redirect URI in App Registration as type \"Mobile and desktop applications\"\n",
    "    creds = app.acquire_token_interactive(scopes=SCOPES, port=PORT)\n",
    "    return creds\n",
    "\n",
    "\n",
    "creds = authenticate_azure()\n",
    "\n",
    "client = CogniteClient(\n",
    "    token_url=creds[\"id_token_claims\"][\"iss\"],\n",
    "    token=creds[\"access_token\"],\n",
    "    token_client_id=creds[\"id_token_claims\"][\"aud\"],\n",
    "    project=COGNITE_PROJECT,\n",
    "    base_url=f\"https://{CDF_CLUSTER}.cognitedata.com\",\n",
    "    client_name=\"cognite-python-dev\",\n",
    ")"
   ]
  },
  {
   "cell_type": "code",
   "execution_count": 15,
   "metadata": {},
   "outputs": [
    {
     "name": "stdout",
     "output_type": "stream",
     "text": [
      "NO1_consumption_per_15min\n",
      "NO1_consumption_forecast_per_15min\n"
     ]
    },
    {
     "data": {
      "text/html": [
       "<div>\n",
       "<style scoped>\n",
       "    .dataframe tbody tr th:only-of-type {\n",
       "        vertical-align: middle;\n",
       "    }\n",
       "\n",
       "    .dataframe tbody tr th {\n",
       "        vertical-align: top;\n",
       "    }\n",
       "\n",
       "    .dataframe thead th {\n",
       "        text-align: right;\n",
       "    }\n",
       "</style>\n",
       "<table border=\"1\" class=\"dataframe\">\n",
       "  <thead>\n",
       "    <tr style=\"text-align: right;\">\n",
       "      <th></th>\n",
       "      <th>5172002421720946|average</th>\n",
       "      <th>7859454433446946|average</th>\n",
       "    </tr>\n",
       "  </thead>\n",
       "  <tbody>\n",
       "    <tr>\n",
       "      <th>2015-01-01 00:00:00</th>\n",
       "      <td>4678.090390</td>\n",
       "      <td>4363.471289</td>\n",
       "    </tr>\n",
       "    <tr>\n",
       "      <th>2015-01-01 01:00:00</th>\n",
       "      <td>4574.095914</td>\n",
       "      <td>4223.608992</td>\n",
       "    </tr>\n",
       "    <tr>\n",
       "      <th>2015-01-01 02:00:00</th>\n",
       "      <td>4498.004329</td>\n",
       "      <td>4157.389157</td>\n",
       "    </tr>\n",
       "    <tr>\n",
       "      <th>2015-01-01 03:00:00</th>\n",
       "      <td>4480.165823</td>\n",
       "      <td>4150.039298</td>\n",
       "    </tr>\n",
       "    <tr>\n",
       "      <th>2015-01-01 04:00:00</th>\n",
       "      <td>4540.027045</td>\n",
       "      <td>4291.640447</td>\n",
       "    </tr>\n",
       "    <tr>\n",
       "      <th>...</th>\n",
       "      <td>...</td>\n",
       "      <td>...</td>\n",
       "    </tr>\n",
       "    <tr>\n",
       "      <th>2022-06-02 19:00:00</th>\n",
       "      <td>3062.750000</td>\n",
       "      <td>3317.589204</td>\n",
       "    </tr>\n",
       "    <tr>\n",
       "      <th>2022-06-02 20:00:00</th>\n",
       "      <td>3002.375000</td>\n",
       "      <td>3221.822662</td>\n",
       "    </tr>\n",
       "    <tr>\n",
       "      <th>2022-06-02 21:00:00</th>\n",
       "      <td>2862.625000</td>\n",
       "      <td>3089.686713</td>\n",
       "    </tr>\n",
       "    <tr>\n",
       "      <th>2022-06-02 22:00:00</th>\n",
       "      <td>2684.000000</td>\n",
       "      <td>NaN</td>\n",
       "    </tr>\n",
       "    <tr>\n",
       "      <th>2022-06-02 23:00:00</th>\n",
       "      <td>2574.875000</td>\n",
       "      <td>NaN</td>\n",
       "    </tr>\n",
       "  </tbody>\n",
       "</table>\n",
       "<p>65033 rows × 2 columns</p>\n",
       "</div>"
      ],
      "text/plain": [
       "                     5172002421720946|average  7859454433446946|average\n",
       "2015-01-01 00:00:00               4678.090390               4363.471289\n",
       "2015-01-01 01:00:00               4574.095914               4223.608992\n",
       "2015-01-01 02:00:00               4498.004329               4157.389157\n",
       "2015-01-01 03:00:00               4480.165823               4150.039298\n",
       "2015-01-01 04:00:00               4540.027045               4291.640447\n",
       "...                                       ...                       ...\n",
       "2022-06-02 19:00:00               3062.750000               3317.589204\n",
       "2022-06-02 20:00:00               3002.375000               3221.822662\n",
       "2022-06-02 21:00:00               2862.625000               3089.686713\n",
       "2022-06-02 22:00:00               2684.000000                       NaN\n",
       "2022-06-02 23:00:00               2574.875000                       NaN\n",
       "\n",
       "[65033 rows x 2 columns]"
      ]
     },
     "execution_count": 15,
     "metadata": {},
     "output_type": "execute_result"
    }
   ],
   "source": [
    "#Definer ønsket kruver\n",
    "curves = [\"NO1_consumption_per_15min\",\n",
    "\"NO1_consumption_forecast_per_15min\"]\n",
    "\n",
    "#Definer start dato\n",
    "start_dato = datetime(2015,1,1)\n",
    "slutt_dato = datetime(2022,6,3)\n",
    "\n",
    "df_watt = pd.DataFrame()\n",
    "for curve in curves:\n",
    "    print(curve)\n",
    "    hm = client.datapoints.retrieve_dataframe(\n",
    "        start=start_dato,\n",
    "        end=slutt_dato,\n",
    "        aggregates=[\"average\"],\n",
    "        granularity=\"1h\",\n",
    "        id=client.time_series.retrieve(external_id=curve).id,)\n",
    "    df_watt = pd.merge(df_watt, hm, left_index=True, right_index=True, how=\"outer\")\n",
    "\n",
    "df_watt"
   ]
  },
  {
   "cell_type": "code",
   "execution_count": 16,
   "metadata": {},
   "outputs": [],
   "source": [
    "df_watt.columns = [\"cons_actual\",\"cons_forecast\"]"
   ]
  },
  {
   "cell_type": "code",
   "execution_count": 17,
   "metadata": {},
   "outputs": [
    {
     "name": "stdout",
     "output_type": "stream",
     "text": [
      "MSE Volue: 33104.503620705815\n",
      "MAE Volue: 135.34678409485824\n",
      "MSLE Volue: 0.0019185620902641169\n",
      "R2 Volue: 0.9806514546231295\n"
     ]
    }
   ],
   "source": [
    "from sklearn.metrics import mean_squared_error, mean_absolute_error, mean_squared_log_error, r2_score\n",
    "\n",
    "df_watt = df_watt.dropna()\n",
    "\n",
    "cons_actual = df_watt[\"cons_actual\"].values\n",
    "cons_forecast = df_watt[\"cons_forecast\"].values\n",
    "\n",
    "# cons_actual = cons_actual[~np.isnan(cons_actual)]\n",
    "# cons_forecast = cons_forecast[~np.isnan(cons_forecast)]\n",
    "\n",
    "print(f\"MSE Volue: {mean_squared_error(cons_forecast, cons_actual)}\")\n",
    "print(f\"MAE Volue: {mean_absolute_error(cons_forecast, cons_actual)}\")\n",
    "print(f\"MSLE Volue: {mean_squared_log_error(cons_forecast, cons_actual)}\")\n",
    "print(f\"R2 Volue: {r2_score(cons_forecast, cons_actual)}\")"
   ]
  }
 ],
 "metadata": {
  "kernelspec": {
   "display_name": "Python 3.9.12 ('p39_sommer')",
   "language": "python",
   "name": "python3"
  },
  "language_info": {
   "codemirror_mode": {
    "name": "ipython",
    "version": 3
   },
   "file_extension": ".py",
   "mimetype": "text/x-python",
   "name": "python",
   "nbconvert_exporter": "python",
   "pygments_lexer": "ipython3",
   "version": "3.9.12"
  },
  "orig_nbformat": 4,
  "vscode": {
   "interpreter": {
    "hash": "0a8d2357f8c9ab0bd5f00168acbe48004ca520c58a19fa70219e2bdec9ce91e8"
   }
  }
 },
 "nbformat": 4,
 "nbformat_minor": 2
}
