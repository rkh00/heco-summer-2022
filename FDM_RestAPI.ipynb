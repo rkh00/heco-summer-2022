{
 "cells": [
  {
   "cell_type": "markdown",
   "metadata": {},
   "source": [
    "## Funksjonalitet i forhold til eksisterende FDM pakke\n",
    "Dette er en notebook hvor vi prøver å oppnå samme eller lignende funksjonalitet som finnes i HecoFDMUsage-notebook'en som er basert på Kalles FDM-pakke.\n",
    "\n",
    "Take-aways:\n",
    "* API-nøkkel: du må lage en API-nøkkel og lagrer den i Azure KeyVault eller som miljøvariabel på PC-den din (OBS: nøkkelen varer i maks 365 dager)\n",
    "    - API-nøkkel kan generes her: https://ecofdmprod.lilacenergy.com/Identity/Account/Login\n",
    "* Output er typisk en liste som inneholder flere ordbøker, f.eks. en ordbok per valueDate\n",
    "* Hvis du angir fcDate, da må du velge en eksisterende fcDate eller bruke \"LatestForecast\"-querien\n",
    "* Ingen MultiCurve-henting\n",
    "\n",
    "\n",
    "API-dokumentasjon finnes her: https://ecofdmprod.lilacenergy.com/api/swagger/index.html"
   ]
  },
  {
   "cell_type": "code",
   "execution_count": 1,
   "metadata": {},
   "outputs": [],
   "source": [
    "# Import av relevante pakker\n",
    "import pandas as pd \n",
    "import numpy as np\n",
    "import os\n",
    "import requests\n",
    "import json\n",
    "from datetime import datetime as dt\n",
    "from pprint import pprint as pp"
   ]
  },
  {
   "cell_type": "markdown",
   "metadata": {},
   "source": [
    "#### Hvis du har en personlig KeyVault (Azure), kan du bruke neste boks."
   ]
  },
  {
   "cell_type": "code",
   "execution_count": 2,
   "metadata": {},
   "outputs": [],
   "source": [
    "# # Pakker som må installeres\n",
    "# from azure.keyvault.secrets import SecretClient\n",
    "# from azure.identity import DefaultAzureCredential\n",
    "\n",
    "# # Get keyvault name and create connection url\n",
    "# keyVaultName = os.environ[\"KEY_VAULT_NAME\"]\n",
    "# KVUri = f\"https://{keyVaultName}.vault.azure.net\"\n",
    "\n",
    "# ## DefaultAzureCredential uses the environment variables created earlier to create a credential objects against Azure\n",
    "# credential = DefaultAzureCredential()\n",
    "\n",
    "# ## Create an KeyVault secrets client object\n",
    "# client = SecretClient(vault_url=KVUri, credential=credential)\n",
    "\n",
    "# ## Bruk string'en som du har lagret i din private Azure KeyVault\n",
    "# api = client.get_secret(\"FDM-private-API\").value"
   ]
  },
  {
   "cell_type": "markdown",
   "metadata": {},
   "source": [
    "### Hvis du IKKE har en personlig KeyVault (Azure), lagre FDM_API_KEY som miljøvariabel på PCen din\n",
    "- Søk på `Rediger miljøvariabler for kontoen din`\n",
    "- Legg til ny variabel under `Brukervariabler for XXXXX`\n",
    "    - Variabelnavn: `FDM_API_KEY`\n",
    "    - Variabelverdi: hvis du har en FDM-bruker kan du opprette en egen API-nøkkel, hvis ikke: spør Niklas\n",
    "\n",
    "Klikk `Ok` 2x ganger slik at vinduet for miljøvariabler er lukket igjen.\n",
    "\n",
    "Når du kjører neste boks og får følgende feilmelding: `'NoneType' object has no attribute 'startswith'` -> lukk terminalen / konsolen din og start den opp igjen"
   ]
  },
  {
   "cell_type": "code",
   "execution_count": 2,
   "metadata": {},
   "outputs": [],
   "source": [
    "# Hent FDM API nøkkelen fra miljøvariablene dine\n",
    "api = os.getenv('FDM_API_KEY')\n",
    "if not api.startswith('apikey-v1'):\n",
    "    api = 'apikey-v1 ' + api"
   ]
  },
  {
   "cell_type": "markdown",
   "metadata": {},
   "source": [
    "## CurveValues\n",
    "- kun valueDate og values"
   ]
  },
  {
   "cell_type": "code",
   "execution_count": 7,
   "metadata": {
    "tags": []
   },
   "outputs": [
    {
     "name": "stdout",
     "output_type": "stream",
     "text": [
      "Output kommer i form av en liste med ordbøker: dict_keys(['scenarioID', 'forecastDate', 'valueDate', 'value'])\n",
      "\n",
      "                           value\n",
      "2021-01-10 01:00:00+01:00  35.62\n",
      "2021-01-10 02:00:00+01:00  33.81\n",
      "2021-01-10 03:00:00+01:00  33.04\n",
      "2021-01-10 04:00:00+01:00  32.96 \n",
      "\n"
     ]
    }
   ],
   "source": [
    "# Input\n",
    "dt_from = '2021-01-10'\n",
    "dt_to = '2021-01-20'\n",
    "curveID = '102196349' \n",
    "\n",
    "# Hent data\n",
    "url = f'https://ecofdmprod.lilacenergy.com/api/v1/CurveValues/{curveID}?MinValueDate={dt_from}&MaxValueDate={dt_to}'\n",
    "headers = {\"Accept\": \"application/json\", \"Authorization\": api}\n",
    "req = requests.get(url, headers=headers)\n",
    "data = req.json()\n",
    "\n",
    "print(f'Output kommer i form av en liste med ordbøker: {data[0].keys()}\\n')\n",
    "\n",
    "# Få data i en pandas DataFrame\n",
    "values = [x['value'] for x in data]\n",
    "valueDates = [x['valueDate'] for x in data]\n",
    "df = pd.DataFrame(data = values, index = valueDates, columns = ['value'])\n",
    "df.index = pd.to_datetime(df.index)\n",
    "\n",
    "print(df.head(4),'\\n')\n",
    "\n",
    "# # Få data i en numpy recarray\n",
    "# dtype = [('timestamps', 'datetime64[s]'), ('values', 'd')]\n",
    "# # Fra pandas dataframe to numpy recarray\n",
    "# data_array = np.rec.array((df.index[:], df.value[:]), dtype=dtype,)\n",
    "\n",
    "# # Directly into numpy recarray\n",
    "# zipped_list = [(i,j) for i,j in zip(valueDates, values)]\n",
    "# data_array = np.rec.array((zipped_list), dtype=dtype,)\n",
    "# print(data_array[:4])"
   ]
  },
  {
   "cell_type": "markdown",
   "metadata": {},
   "source": [
    "## CurveValues\n",
    "- inclCurveInfo = True"
   ]
  },
  {
   "cell_type": "code",
   "execution_count": 12,
   "metadata": {},
   "outputs": [
    {
     "name": "stdout",
     "output_type": "stream",
     "text": [
      "                           value  scenaorioID               forecastDate\n",
      "2021-01-10 01:00:00+01:00  35.62            0  2000-01-01T01:00:00+01:00\n",
      "2021-01-10 02:00:00+01:00  33.81            0  2000-01-01T01:00:00+01:00\n",
      "2021-01-10 03:00:00+01:00  33.04            0  2000-01-01T01:00:00+01:00\n",
      "2021-01-10 04:00:00+01:00  32.96            0  2000-01-01T01:00:00+01:00\n"
     ]
    }
   ],
   "source": [
    "## Obligatorisk input\n",
    "curveID = '102196349' \n",
    "\n",
    "## Valgfri input\n",
    "dt_from = '2021-01-10'\n",
    "dt_to = '2021-01-20'\n",
    "\n",
    "# Hent data\n",
    "url = f'https://ecofdmprod.lilacenergy.com/api/v1/CurveValues/{curveID}?MinValueDate={dt_from}&MaxValueDate={dt_to}'\n",
    "headers = {\"Accept\": \"application/json\", \"Authorization\": api}\n",
    "req = requests.get(url, headers=headers)\n",
    "data = req.json()\n",
    "\n",
    "# Få data i en pandas DataFrame\n",
    "values = [x['value'] for x in data]\n",
    "valueDates = [x['valueDate'] for x in data]\n",
    "scenarioID = [x['scenarioID'] for x in data]\n",
    "forecastDate = [x['forecastDate'] for x in data]\n",
    "df = pd.DataFrame(data = zip(values, scenarioID, forecastDate), index = valueDates, columns = ['value', 'scenaorioID', 'forecastDate'])\n",
    "df.index = pd.to_datetime(df.index)\n",
    "print(df.head(4))"
   ]
  },
  {
   "cell_type": "markdown",
   "metadata": {},
   "source": [
    "## CurveValues\n",
    "- Endre tidssone \n",
    "\n",
    "OBS: Du kan oppnå samme resultat med \"GET/v1/Forecast/{CurveID}/{ScenarioID}/{ForecastDate}"
   ]
  },
  {
   "cell_type": "code",
   "execution_count": 13,
   "metadata": {},
   "outputs": [
    {
     "name": "stdout",
     "output_type": "stream",
     "text": [
      "Timezone UTC results in:\n",
      "                           value\n",
      "2021-05-01 00:00:00+00:00  48.00\n",
      "2021-05-01 01:00:00+00:00  48.00\n",
      "2021-05-01 02:00:00+00:00  48.15\n",
      "2021-05-01 03:00:00+00:00  48.38\n",
      "2021-05-01 04:00:00+00:00  48.84\n",
      "\n",
      "Timezone Central European Standard Time results in:\n",
      "                           value\n",
      "2021-05-01 02:00:00+02:00  48.00\n",
      "2021-05-01 03:00:00+02:00  48.00\n",
      "2021-05-01 04:00:00+02:00  48.15\n",
      "2021-05-01 05:00:00+02:00  48.38\n",
      "2021-05-01 06:00:00+02:00  48.84\n",
      "\n"
     ]
    }
   ],
   "source": [
    "## Obligatorisk input\n",
    "curveID = '102196349'\n",
    "\n",
    "## Valgfri input\n",
    "dt_from = '2021-05-01'\n",
    "dt_to = '2021-05-05'\n",
    "## API dokumentasjon: Reference Data > GET/v1/Timezones for å se hvordan tzonene heter\n",
    "tzone = ['UTC', 'Central European Standard Time'] # Central European Standard Time\n",
    "\n",
    "for i in tzone:\n",
    "    # Hent data\n",
    "    url = f'https://ecofdmprod.lilacenergy.com/api/v1/CurveValues/{curveID}?MinValueDate={dt_from}&MaxValueDate={dt_to}&ResultTimezone={i}'\n",
    "    headers = {\"Accept\": \"application/json\", \"Authorization\": api}\n",
    "    req = requests.get(url, headers=headers)\n",
    "    data = req.json()\n",
    "\n",
    "    # Få data i en pandas DataFrame\n",
    "    values = [x['value'] for x in data]\n",
    "    valueDates = [x['valueDate'] for x in data]\n",
    "\n",
    "    df = pd.DataFrame(data = values, index = valueDates, columns = ['value'])\n",
    "    df.index = pd.to_datetime(df.index)\n",
    "\n",
    "    print(f'Timezone {i} results in:\\n{df.head(5)}\\n')"
   ]
  },
  {
   "cell_type": "markdown",
   "metadata": {},
   "source": [
    "## CurveValues\n",
    "- Endre tidsfrekvens"
   ]
  },
  {
   "cell_type": "code",
   "execution_count": 14,
   "metadata": {},
   "outputs": [
    {
     "name": "stdout",
     "output_type": "stream",
     "text": [
      "                                        valueEndDate     values\n",
      "2021-01-01 00:00:00+01:00  2021-01-06T00:00:00+01:00  33.164250\n",
      "2021-01-06 00:00:00+01:00  2021-01-11T00:00:00+01:00  53.488750\n",
      "2021-01-11 00:00:00+01:00  2021-01-16T00:00:00+01:00  48.822833\n",
      "2021-01-16 00:00:00+01:00  2021-01-21T00:00:00+01:00  46.963750\n",
      "2021-01-21 00:00:00+01:00  2021-01-26T00:00:00+01:00  38.817417\n"
     ]
    }
   ],
   "source": [
    "## Obligatorisk input\n",
    "curveID = '102196349'\n",
    "# API dokumentasjone: Reference Data > GET/v1/PeriodTypes for å se hvilke aggregeringer som er mulig\n",
    "ResultPeriodType = 'Days'\n",
    "ResultPeriodLength = 5 # over hvor mange \"enheter\" (f.eks. dager) skal det aggregeres\n",
    "\n",
    "## Valgfri input\n",
    "MinValueDate = '2021-01-01'\n",
    "# ...\n",
    "\n",
    "# Hent data\n",
    "url = f'https://ecofdmprod.lilacenergy.com/api/v1/CurveValues/Aggregated/{curveID}/{ResultPeriodType}/{ResultPeriodLength}?MinValueDate={MinValueDate}'\n",
    "headers = {\"Accept\": \"application/json\", \"Authorization\": api}\n",
    "req = requests.get(url, headers=headers)\n",
    "data = req.json()\n",
    "\n",
    "# Få data i en pandas DataFrame\n",
    "values = [x['value'] for x in data]\n",
    "valueDates = [x['valueDate'] for x in data]\n",
    "valueEndDate = [x['valueEndDate'] for x in data]\n",
    "\n",
    "df = pd.DataFrame(data = zip(valueEndDate, values), index = valueDates, columns = ['valueEndDate', 'values'])\n",
    "df.index = pd.to_datetime(df.index)\n",
    "\n",
    "print(df.head(5))"
   ]
  },
  {
   "cell_type": "markdown",
   "metadata": {},
   "source": [
    "## CurveValues\n",
    "* Div med fcDate\n",
    "    - AsAtDate: returnerer den nyeste fcDate før AsAtDate. Det betyr at det må finnes minst en kurve med fcDate før AsAtDate.\n",
    "\n",
    "\n",
    "OBS: du må enten velge en eksisterende fcDate eller bruk \"LatestForecast\""
   ]
  },
  {
   "cell_type": "code",
   "execution_count": 15,
   "metadata": {},
   "outputs": [
    {
     "name": "stdout",
     "output_type": "stream",
     "text": [
      "With AsAtDate set at 2020-01-01:\n",
      "                              value\n",
      "2019-12-31 00:00:00+01:00  32.86442\n",
      "2019-12-31 01:00:00+01:00  32.51643\n",
      "2019-12-31 02:00:00+01:00  32.36680\n",
      "2019-12-31 03:00:00+01:00  32.33875\n",
      "2019-12-31 04:00:00+01:00  32.33875\n",
      "\n",
      "With no AsAtDate:\n",
      "                               value\n",
      "2022-06-10 00:00:00+02:00  136.91201\n",
      "2022-06-10 01:00:00+02:00  134.43276\n",
      "2022-06-10 02:00:00+02:00  134.46350\n",
      "2022-06-10 03:00:00+02:00  135.01672\n",
      "2022-06-10 04:00:00+02:00  135.04745\n"
     ]
    }
   ],
   "source": [
    "## Obligatorisk input\n",
    "curveID = '910000065'\n",
    "scenarioID = 0\n",
    "\n",
    "## Valgfri input\n",
    "AsAtDate = '2020-01-01'\n",
    "# ...\n",
    "\n",
    "# Hent data\n",
    "url = f'https://ecofdmprod.lilacenergy.com/api/v1/CurveValues/LatestForecast/{curveID}/{scenarioID}?AsAtDate={AsAtDate}'\n",
    "headers = {\"Accept\": \"application/json\", \"Authorization\": api}\n",
    "req = requests.get(url, headers=headers)\n",
    "data = req.json()\n",
    "\n",
    "# Få data i en pandas DataFrame\n",
    "values = [x['value'] for x in data]\n",
    "valueDates = [x['valueDate'] for x in data]\n",
    "\n",
    "df = pd.DataFrame(data = values, index = valueDates, columns = ['value'])\n",
    "df.index = pd.to_datetime(df.index)\n",
    "\n",
    "print(f'With AsAtDate set at {AsAtDate}:\\n{df.head(5)}\\n')\n",
    "\n",
    "# Hent data\n",
    "url = f'https://ecofdmprod.lilacenergy.com/api/v1/CurveValues/LatestForecast/{curveID}/{scenarioID}'\n",
    "headers = {\"Accept\": \"application/json\", \"Authorization\": api}\n",
    "req = requests.get(url, headers=headers)\n",
    "data = req.json()\n",
    "\n",
    "# Få data i en pandas DataFrame\n",
    "values = [x['value'] for x in data]\n",
    "valueDates = [x['valueDate'] for x in data]\n",
    "\n",
    "df = pd.DataFrame(data = values, index = valueDates, columns = ['value'])\n",
    "df.index = pd.to_datetime(df.index)\n",
    "\n",
    "print(f'With no AsAtDate:\\n{df.head(5)}')"
   ]
  },
  {
   "cell_type": "markdown",
   "metadata": {},
   "source": [
    "## Curve Summary\n",
    "- Finn ut hvilke fcDates det finnes per kurve"
   ]
  },
  {
   "cell_type": "code",
   "execution_count": 16,
   "metadata": {},
   "outputs": [
    {
     "name": "stdout",
     "output_type": "stream",
     "text": [
      "[{'curveID': 910000065,\n",
      "  'forecastDate': '2021-01-04T09:28:07+00:00',\n",
      "  'lastUpdateTime': '2021-01-04T08:28:17.757+00:00',\n",
      "  'maxValueDate': '2023-12-31T22:00:00+00:00',\n",
      "  'minValueDate': '2021-01-04T23:00:00+00:00',\n",
      "  'scenarioID': 0},\n",
      " {'curveID': 910000065,\n",
      "  'forecastDate': '2021-01-04T14:15:47+00:00',\n",
      "  'lastUpdateTime': '2021-01-04T13:17:13.233+00:00',\n",
      "  'maxValueDate': '2023-12-31T22:00:00+00:00',\n",
      "  'minValueDate': '2021-01-04T23:00:00+00:00',\n",
      "  'scenarioID': 0},\n",
      " {'curveID': 910000065,\n",
      "  'forecastDate': '2021-01-04T14:32:51+00:00',\n",
      "  'lastUpdateTime': '2021-01-04T13:33:08.41+00:00',\n",
      "  'maxValueDate': '2023-12-31T22:00:00+00:00',\n",
      "  'minValueDate': '2021-01-04T23:00:00+00:00',\n",
      "  'scenarioID': 0},\n",
      " {'curveID': 910000065,\n",
      "  'forecastDate': '2021-01-04T14:37:58+00:00',\n",
      "  'lastUpdateTime': '2021-01-04T13:38:43.727+00:00',\n",
      "  'maxValueDate': '2024-12-31T22:00:00+00:00',\n",
      "  'minValueDate': '2021-01-04T23:00:00+00:00',\n",
      "  'scenarioID': 0},\n",
      " {'curveID': 910000065,\n",
      "  'forecastDate': '2021-01-05T08:40:04+00:00',\n",
      "  'lastUpdateTime': '2021-01-05T07:40:26.813+00:00',\n",
      "  'maxValueDate': '2024-12-31T22:00:00+00:00',\n",
      "  'minValueDate': '2021-01-05T23:00:00+00:00',\n",
      "  'scenarioID': 0}]\n"
     ]
    }
   ],
   "source": [
    "## Obligatorisk input\n",
    "curveID = '910000065'\n",
    "\n",
    "## Valgfri input\n",
    "scenarioID = 0\n",
    "MinForecastDate = '2021-01-01'\n",
    "# ...\n",
    "\n",
    "# Hent data\n",
    "url = f'https://ecofdmprod.lilacenergy.com/api/v1/CurveForecastList/{curveID}?ScenarioID={scenarioID}&MinForecastDate={MinForecastDate}'\n",
    "headers = {\"Accept\": \"application/json\", \"Authorization\": api}\n",
    "req = requests.get(url, headers=headers)\n",
    "\n",
    "data = req.json()\n",
    "pp(data[:5])"
   ]
  },
  {
   "cell_type": "code",
   "execution_count": 17,
   "metadata": {
    "tags": []
   },
   "outputs": [
    {
     "name": "stdout",
     "output_type": "stream",
     "text": [
      "[{'curveID': 910000065,\n",
      "  'forecastDate': '2021-01-04T09:28:07+00:00',\n",
      "  'lastUpdateTime': '2021-01-04T08:28:17.757+00:00',\n",
      "  'maxValueDate': '2023-12-31T22:00:00+00:00',\n",
      "  'minValueDate': '2021-01-04T23:00:00+00:00',\n",
      "  'scenarioID': 0},\n",
      " {'curveID': 910000065,\n",
      "  'forecastDate': '2021-01-04T14:15:47+00:00',\n",
      "  'lastUpdateTime': '2021-01-04T13:17:13.233+00:00',\n",
      "  'maxValueDate': '2023-12-31T22:00:00+00:00',\n",
      "  'minValueDate': '2021-01-04T23:00:00+00:00',\n",
      "  'scenarioID': 0},\n",
      " {'curveID': 910000065,\n",
      "  'forecastDate': '2021-01-04T14:32:51+00:00',\n",
      "  'lastUpdateTime': '2021-01-04T13:33:08.41+00:00',\n",
      "  'maxValueDate': '2023-12-31T22:00:00+00:00',\n",
      "  'minValueDate': '2021-01-04T23:00:00+00:00',\n",
      "  'scenarioID': 0}]\n"
     ]
    }
   ],
   "source": [
    "## Obligatorisk input\n",
    "curveID = '910000065'\n",
    "\n",
    "## Valgfri input\n",
    "scenarioID = 0\n",
    "MinForecastDate = '2021-01-01'\n",
    "# ...\n",
    "\n",
    "# Hent data\n",
    "url = f'https://ecofdmprod.lilacenergy.com/api/v1/CurveForecastList/{curveID}?ScenarioID={scenarioID}&MinForecastDate={MinForecastDate}'\n",
    "headers = {\"Accept\": \"application/json\", \"Authorization\": api}\n",
    "req = requests.get(url, headers=headers)\n",
    "\n",
    "data = req.json()\n",
    "pp(data[:3])"
   ]
  },
  {
   "cell_type": "markdown",
   "metadata": {},
   "source": [
    "## Curve Summary\n",
    "- Finn ut hvor mange fcDates det finnes for en en serie\n",
    "\n",
    "Det finnes lignende queries for å finne ut om minValueDate, maxvalueDate, lastUpdateTime og scenarier."
   ]
  },
  {
   "cell_type": "code",
   "execution_count": 18,
   "metadata": {},
   "outputs": [
    {
     "name": "stdout",
     "output_type": "stream",
     "text": [
      "{'curveID': 910000065, 'forecastCount': 3990, 'minForecastDate': '2015-01-05T00:00:00+00:00', 'maxForecastDate': '2022-06-09T09:01:34+00:00', 'lastUpdateTime': '2022-06-09T07:03:57.923+00:00'}\n"
     ]
    }
   ],
   "source": [
    "## Obligatorisk input\n",
    "curveID = '910000065'\n",
    "\n",
    "# Hent data\n",
    "url = f'https://ecofdmprod.lilacenergy.com/api/v1/CurveSummary/Forecasts/{curveID}'\n",
    "headers = {\"Accept\": \"application/json\", \"Authorization\": api}\n",
    "req = requests.get(url, headers=headers)\n",
    "data = req.json()\n",
    "print(data)"
   ]
  },
  {
   "cell_type": "markdown",
   "metadata": {},
   "source": [
    "## Metadata"
   ]
  },
  {
   "cell_type": "code",
   "execution_count": 19,
   "metadata": {},
   "outputs": [
    {
     "name": "stdout",
     "output_type": "stream",
     "text": [
      "Output kommer i form av en ordbok som inneholder 2x nøkler: dict_keys(['curveID', 'tags'])\n",
      "\n",
      "curveID = 102196359 \n",
      "\n",
      "{'name': 'Curve Name', 'value': 'Nordpool-PEUR;Nordpool-PR-D-Bergen'}\n",
      "{'name': 'Commodity', 'value': 'Power'}\n",
      "{'name': 'Provider.is', 'value': 'Nord Pool Spot AS'}\n",
      "{'name': 'Variable.is', 'value': 'Price'}\n",
      "{'name': 'Geography.is', 'value': 'Bergen (NOR)'}\n",
      "{'name': 'Value.Frequency.is', 'value': 'Hours (1)'}\n",
      "{'name': 'Status.is', 'value': 'Actual'}\n",
      "{'name': 'Unit.is', 'value': 'Euro per megawatt hour'}\n",
      "{'name': 'Timezone.is', 'value': 'CET'}\n",
      "{'name': 'FileFolder', 'value': 'History/Prices'}\n",
      "{'name': 'FileStub', 'value': 'HIST_Pwr_NPS_PRI_Elspot_City_NRD_A'}\n",
      "{'name': 'FileID', 'value': '5020730'}\n",
      "{'name': 'Source', 'value': 'PointConnect'}\n",
      "{'name': 'Commodity.is', 'value': 'Power'}\n",
      "{'name': 'Provider', 'value': 'Nord Pool Spot AS'}\n",
      "{'name': 'Unit', 'value': 'EUR/MWh'}\n",
      "{'name': 'Issue.Frequency.is', 'value': 'Days (1)'}\n",
      "{'name': 'Origin.is', 'value': 'Nord Pool Spot AS'}\n",
      "{'name': 'Dataset.Out.is', 'value': 'Nordpool-PEUR'}\n",
      "{'name': 'Variable.Specification.is', 'value': 'spot'}\n",
      "{'name': 'Market.is', 'value': 'Nordic power'}\n",
      "{'name': 'Access level.is', 'value': 'Redistribution.product'}\n",
      "{'name': 'Contract.is', 'value': 'Day ahead'}\n",
      "{'name': 'Sector.is', 'value': 'Energy'}\n",
      "{'name': 'Trading place.is', 'value': 'Nord Pool Spot AS'}\n",
      "\n",
      " Datakilde for curveID 102196359 er PointConnect\n"
     ]
    }
   ],
   "source": [
    "# Input\n",
    "curveID = '102196359'\n",
    "\n",
    "# Hente data\n",
    "url = f'https://ecofdmprod.lilacenergy.com/api/v1/Metadata/{curveID}'\n",
    "headers = {\"Accept\": \"application/json\", \"Authorization\": api}\n",
    "req = requests.get(url, headers=headers)\n",
    "data = req.json()\n",
    "\n",
    "print(f'Output kommer i form av en ordbok som inneholder 2x nøkler: {data.keys()}\\n')\n",
    "print('curveID =',data['curveID'], '\\n')\n",
    "\n",
    "# Nøkkelen 'tags' inneholder en liste med ordbøker\n",
    "for i in data['tags']:\n",
    "    print(i)\n",
    "\n",
    "# Hvis du skal ha en spesifikk verdi\n",
    "for i in range(len(data['tags'])):\n",
    "    if data['tags'][i]['name'] == 'Source':\n",
    "        print('\\n',f'Datakilde for curveID {curveID} er',data['tags'][i]['value'])"
   ]
  },
  {
   "cell_type": "markdown",
   "metadata": {},
   "source": [
    "## Proprietary Data: write to FDM\n",
    "* Se repo'et https://dev.azure.com/hafslunde-co/HafslundEco.Krafthandel.FUNdament/_git/heco.kraft.fun.fdmapi dersom du har lyst på en robust løsning for å skrive data til FDM (og annen funksjonalitet)\n",
    "\n",
    "Test tidsserie:\n",
    "- curveID: 910001922\n",
    "- scenarioID: 700"
   ]
  },
  {
   "cell_type": "markdown",
   "metadata": {},
   "source": []
  }
 ],
 "metadata": {
  "interpreter": {
   "hash": "ecf0a32a857eea87e0d0a41a3ee99bda1fc70b9bf263a211606c231a04e00b0f"
  },
  "kernelspec": {
   "display_name": "Python 3.9.7 ('p39')",
   "language": "python",
   "name": "python3"
  },
  "language_info": {
   "codemirror_mode": {
    "name": "ipython",
    "version": 3
   },
   "file_extension": ".py",
   "mimetype": "text/x-python",
   "name": "python",
   "nbconvert_exporter": "python",
   "pygments_lexer": "ipython3",
   "version": "3.9.7"
  },
  "orig_nbformat": 2
 },
 "nbformat": 4,
 "nbformat_minor": 2
}
