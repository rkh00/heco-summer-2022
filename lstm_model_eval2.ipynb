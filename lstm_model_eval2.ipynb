{
 "cells": [
  {
   "cell_type": "code",
   "execution_count": 30,
   "metadata": {},
   "outputs": [],
   "source": [
    "import os\n",
    "import pandas as pd\n",
    "import numpy as np\n",
    "\n",
    "from datetime import datetime\n",
    "from msal import PublicClientApplication\n",
    "\n",
    "from cognite.client import CogniteClient\n",
    "from cognite.client.data_classes import TimeSeries, Asset\n",
    "\n",
    "import tensorflow as tf\n",
    "from tensorflow.keras.callbacks import EarlyStopping\n",
    "from tensorflow.keras.models import Sequential\n",
    "from tensorflow.keras.layers import LSTM\n",
    "from tensorflow.keras.layers import Dense, Dropout\n",
    "from keras.models import load_model\n",
    "from keras.layers import LeakyReLU\n",
    "\n",
    "import matplotlib.pyplot as plt\n",
    "from sklearn.metrics import mean_absolute_error, mean_squared_error, mean_squared_log_error, r2_score"
   ]
  },
  {
   "cell_type": "code",
   "execution_count": 31,
   "metadata": {},
   "outputs": [],
   "source": [
    "def get_data_cdf(start_year,start_month,start_day,end_year,end_month,end_day):\n",
    "    \"\"\"\n",
    "    Retrieve data stored in Cognite Data Fusion\n",
    "    \"\"\"\n",
    "\n",
    "    # Log-in detaljer\n",
    "    TENANT_ID = os.getenv(\"AZURE_TENANT_ID\")\n",
    "    CLIENT_ID = os.getenv(\"AZURE_CLIENT_ID\")\n",
    "    CDF_CLUSTER = \"az-power-no-northeurope\"\n",
    "    COGNITE_PROJECT = \"heco-dev\"\n",
    "\n",
    "    # Code to log-in WIHTOUT client_secret\n",
    "    SCOPES = [f\"https://{CDF_CLUSTER}.cognitedata.com/.default\"]\n",
    "\n",
    "    AUTHORITY_HOST_URI = \"https://login.microsoftonline.com\"\n",
    "    AUTHORITY_URI = AUTHORITY_HOST_URI + \"/\" + TENANT_ID\n",
    "    PORT = 53000\n",
    "\n",
    "\n",
    "    def authenticate_azure():\n",
    "\n",
    "        app = PublicClientApplication(client_id=CLIENT_ID, authority=AUTHORITY_URI)\n",
    "\n",
    "        # interactive login - make sure you have http://localhost:port in Redirect URI in App Registration as type \"Mobile and desktop applications\"\n",
    "        creds = app.acquire_token_interactive(scopes=SCOPES, port=PORT)\n",
    "        return creds\n",
    "\n",
    "\n",
    "    creds = authenticate_azure()\n",
    "\n",
    "    client = CogniteClient(\n",
    "        token_url=creds[\"id_token_claims\"][\"iss\"],\n",
    "        token=creds[\"access_token\"],\n",
    "        token_client_id=creds[\"id_token_claims\"][\"aud\"],\n",
    "        project=COGNITE_PROJECT,\n",
    "        base_url=f\"https://{CDF_CLUSTER}.cognitedata.com\",\n",
    "        client_name=\"cognite-python-dev\",\n",
    "    )\n",
    "        #Definer ønsket kruver\n",
    "    curves = [\"NO1_consumption_per_15min\",\n",
    "    \"NO1_temperature_per_15min\",\n",
    "    \"NO1_el_price_per_hour\",\n",
    "    \"NO1_cloud_coverage_per_15min\"\n",
    "    ]\n",
    "\n",
    "    #Definer start dato\n",
    "    start_dato = datetime(start_year,start_month,start_day)\n",
    "    slutt_dato = datetime(end_year,end_month,end_day)\n",
    "\n",
    "    df_watt = pd.DataFrame()\n",
    "    for curve in curves:\n",
    "        print(curve)\n",
    "        hm = client.datapoints.retrieve_dataframe(\n",
    "            start=start_dato,\n",
    "            end=slutt_dato,\n",
    "            aggregates=[\"average\"],\n",
    "            granularity=\"1h\",\n",
    "            id=client.time_series.retrieve(external_id=curve).id,)\n",
    "        df_watt = pd.merge(df_watt, hm, left_index=True, right_index=True, how=\"outer\")\n",
    "\n",
    "    return df_watt"
   ]
  },
  {
   "cell_type": "code",
   "execution_count": 32,
   "metadata": {},
   "outputs": [],
   "source": [
    "def feature_eng(df):\n",
    "    df.columns = [\"cons_actual\",\"temp_forecast\", \"price_forecast\", \"cc_forecast\"]\n",
    "    df['Seconds'] = df.index.map(pd.Timestamp.timestamp)\n",
    "    day = 60*60*24\n",
    "    year = 365.2425*day\n",
    "    week = day*7\n",
    "\n",
    "    df['Day sin'] = np.sin(df['Seconds'] * (2* np.pi / day))\n",
    "    df['Day cos'] = np.cos(df['Seconds'] * (2 * np.pi / day))\n",
    "    df['Week sin'] = np.sin(df['Seconds'] * (2 * np.pi / week))\n",
    "    df['Week cos'] = np.cos(df['Seconds'] * (2 * np.pi / week))\n",
    "    df['Year sin'] = np.sin(df['Seconds'] * (2 * np.pi / year))\n",
    "    df['Year cos'] = np.cos(df['Seconds'] * (2 * np.pi / year))\n",
    "    df.drop(['Seconds'], axis=1, inplace=True)\n",
    "    df.dropna(inplace=True)\n",
    "    return df"
   ]
  },
  {
   "cell_type": "code",
   "execution_count": 33,
   "metadata": {},
   "outputs": [],
   "source": [
    "def evaluate_lstm(lstm_val_pred, y_val):\n",
    "\n",
    "    y_val_df = pd.DataFrame({'y_val': y_val})\n",
    "    y_val_df['lstm_val_pred'] = lstm_val_pred\n",
    "    y_val_df = y_val_df.sort_index()\n",
    "    plt.plot(y_val_df['lstm_val_pred'][-10:], label='lstm_prediction')\n",
    "    plt.plot(y_val_df['y_val'][-10:], label='actual')\n",
    "    plt.legend()\n",
    "    plt.plot()\n",
    "    plt.show()\n",
    "\n",
    "    print(f\"MSE lstm: {mean_squared_error(lstm_val_pred, y_val)}\")\n",
    "    print(f\"MAE lstm: {mean_absolute_error(lstm_val_pred, y_val)}\")\n",
    "    print(f\"MSLE lstm: {mean_squared_log_error(lstm_val_pred, y_val)}\")\n",
    "    print(f\"R2 lstm: {r2_score(lstm_val_pred, y_val)}\")"
   ]
  },
  {
   "cell_type": "code",
   "execution_count": 34,
   "metadata": {},
   "outputs": [],
   "source": [
    "def create_dataset(dataset, look_back=24):\n",
    "\tdataX, dataY = [], []\n",
    "\tfor i in range(len(dataset)-look_back-1):\n",
    "\t\ta = dataset[i:(i+look_back), :-1]\n",
    "\t\tdataX.append(a)\n",
    "\t\tdataY.append(dataset[i + look_back, -1])\n",
    "\treturn np.array(dataX), np.array(dataY)"
   ]
  },
  {
   "cell_type": "code",
   "execution_count": 43,
   "metadata": {},
   "outputs": [],
   "source": [
    "def lstm(n_features, n_past=4):\n",
    "    # n_features = df.shape[1] - 1\n",
    "    print(f'n_feat: {n_features}')\n",
    "    val_data = get_data_cdf(2022,6,4,2022,6,7)\n",
    "    val_data = feature_eng(val_data)\n",
    "    # trainX,trainY=create_dataset(train_data.to_numpy(), look_back=n_past)\n",
    "    #testX,testY=create_dataset(test_data.to_numpy(), look_back=n_past)\n",
    "    valX,valY=create_dataset(val_data.to_numpy(), look_back=n_past)\n",
    "    # print(valX)\n",
    "    # trainX = trainX.reshape((trainX.shape[0], trainX.shape[1], n_features))\n",
    "    #testX = np.reshape(testX, (1, testX.shape[0], testX.shape[1]))\n",
    "    print(valX.shape)\n",
    "    valX = valX.reshape((valX.shape[0], valX.shape[1], n_features))\n",
    "    print(valX.shape)\n",
    "    # config = [[False], [False], [False], [64, 128], [16, 32, 96], [0.2]]  \n",
    "    # list of lists --> [[first_additional_layer], [second_additional_layer], [third_additional_layer], [n_neurons], [n_batch_size], [dropout]]\n",
    "    # hist, model = LSTM_HyperParameter_Tuning(config, trainX, trainY, valX, valY) \n",
    "    # hist = pd.DataFrame(hist)\n",
    "    # hist = hist.sort_values(by=[7], ascending=True)\n",
    "    # print(f'Best Combination: \\n first_additional_layer = {hist.iloc[0, 0]}\\n second_additional_layer = {hist.iloc[0, 1]}\\n third_additional_layer = {hist.iloc[0, 2]}\\n n_neurons = {hist.iloc[0, 3]}\\n n_batch_size = {hist.iloc[0, 4]}\\n dropout = {hist.iloc[0, 5]}')\n",
    "\n",
    "    return valX, valY"
   ]
  },
  {
   "cell_type": "code",
   "execution_count": 44,
   "metadata": {},
   "outputs": [],
   "source": [
    "def load_lstm(model='lstm_no1_no_bool_lookback_4.h5'):\n",
    "    return load_model(model)"
   ]
  },
  {
   "cell_type": "code",
   "execution_count": 45,
   "metadata": {},
   "outputs": [],
   "source": [
    "def plot_lstm_pred(y_test, lstm_pred, n_hours):\n",
    "    plt.title('Scaled')\n",
    "    plt.plot(range(len(y_test[-n_hours:])), y_test[-n_hours:], linewidth=1.0, label='actual')\n",
    "    plt.plot(range(len(lstm_pred[-n_hours:])), lstm_pred[-n_hours:], linewidth=1.0, label='pred')\n",
    "    plt.legend()\n",
    "    plt.show()"
   ]
  },
  {
   "cell_type": "code",
   "execution_count": 50,
   "metadata": {},
   "outputs": [
    {
     "name": "stdout",
     "output_type": "stream",
     "text": [
      "n_feat: 9\n",
      "NO1_consumption_per_15min\n",
      "NO1_temperature_per_15min\n",
      "NO1_el_price_per_hour\n",
      "NO1_cloud_coverage_per_15min\n",
      "(59, 12, 9)\n",
      "(59, 12, 9)\n",
      "2/2 [==============================] - 1s 7ms/step\n",
      "[[0.22024065]\n",
      " [0.22008565]\n",
      " [0.22046274]\n",
      " [0.22084722]\n",
      " [0.22097094]\n",
      " [0.2209602 ]\n",
      " [0.2208927 ]\n",
      " [0.22080953]\n",
      " [0.22072679]\n",
      " [0.22065207]\n",
      " [0.22058694]\n",
      " [0.22052297]\n",
      " [0.2204587 ]\n",
      " [0.22039333]\n",
      " [0.22038183]\n",
      " [0.22038378]\n",
      " [0.22037873]\n",
      " [0.2203848 ]\n",
      " [0.22040476]\n",
      " [0.2204195 ]\n",
      " [0.22042546]\n",
      " [0.22042167]\n",
      " [0.2204207 ]\n",
      " [0.22041139]\n",
      " [0.22008353]\n",
      " [0.22022736]\n",
      " [0.22063959]\n",
      " [0.2208873 ]\n",
      " [0.22093502]\n",
      " [0.22089586]\n",
      " [0.22082388]\n",
      " [0.22074565]\n",
      " [0.22067529]\n",
      " [0.22061577]\n",
      " [0.22056368]\n",
      " [0.22029823]\n",
      " [0.22017819]\n",
      " [0.22032613]\n",
      " [0.22068766]\n",
      " [0.22108106]\n",
      " [0.2213689 ]\n",
      " [0.22155538]\n",
      " [0.22164209]\n",
      " [0.22164065]\n",
      " [0.221831  ]\n",
      " [0.22197568]\n",
      " [0.22089341]\n",
      " [0.21965197]\n",
      " [0.21858045]\n",
      " [0.21761975]\n",
      " [0.21720201]\n",
      " [0.21817341]\n",
      " [0.2183356 ]\n",
      " [0.21881893]\n",
      " [0.21885858]\n",
      " [0.21864712]\n",
      " [0.21840459]\n",
      " [0.21832564]\n",
      " [0.21858844]]\n"
     ]
    },
    {
     "data": {
      "image/png": "[encoded data removed]",
      "text/plain": [
       "<Figure size 432x288 with 1 Axes>"
      ]
     },
     "metadata": {
      "needs_background": "light"
     },
     "output_type": "display_data"
    },
    {
     "name": "stdout",
     "output_type": "stream",
     "text": [
      "MSE lstm: 1.2496819730318263\n",
      "MAE lstm: 1.1178806922775164\n"
     ]
    },
    {
     "ename": "ValueError",
     "evalue": "Mean Squared Logarithmic Error cannot be used when targets contain negative values.",
     "output_type": "error",
     "traceback": [
      "\u001b[1;31m---------------------------------------------------------------------------\u001b[0m",
      "\u001b[1;31mValueError\u001b[0m                                Traceback (most recent call last)",
      "\u001b[1;32mc:\\Users\\57861\\OneDrive - Hafslund Eco\\Skrivebord\\heco.sommer.notebooks\\heco.sommer.notebooks\\lstm_model_eval2.ipynb Cell 9'\u001b[0m in \u001b[0;36m<cell line: 5>\u001b[1;34m()\u001b[0m\n\u001b[0;32m      <a href='vscode-notebook-cell:/c%3A/Users/57861/OneDrive%20-%20Hafslund%20Eco/Skrivebord/heco.sommer.notebooks/heco.sommer.notebooks/lstm_model_eval2.ipynb#ch0000009?line=2'>3</a>\u001b[0m lstm_val_pred \u001b[39m=\u001b[39m model\u001b[39m.\u001b[39mpredict(x_data)\n\u001b[0;32m      <a href='vscode-notebook-cell:/c%3A/Users/57861/OneDrive%20-%20Hafslund%20Eco/Skrivebord/heco.sommer.notebooks/heco.sommer.notebooks/lstm_model_eval2.ipynb#ch0000009?line=3'>4</a>\u001b[0m \u001b[39mprint\u001b[39m(lstm_val_pred)\n\u001b[1;32m----> <a href='vscode-notebook-cell:/c%3A/Users/57861/OneDrive%20-%20Hafslund%20Eco/Skrivebord/heco.sommer.notebooks/heco.sommer.notebooks/lstm_model_eval2.ipynb#ch0000009?line=4'>5</a>\u001b[0m evaluate_lstm(lstm_val_pred,y_data)\n",
      "\u001b[1;32mc:\\Users\\57861\\OneDrive - Hafslund Eco\\Skrivebord\\heco.sommer.notebooks\\heco.sommer.notebooks\\lstm_model_eval2.ipynb Cell 4'\u001b[0m in \u001b[0;36mevaluate_lstm\u001b[1;34m(lstm_val_pred, y_val)\u001b[0m\n\u001b[0;32m     <a href='vscode-notebook-cell:/c%3A/Users/57861/OneDrive%20-%20Hafslund%20Eco/Skrivebord/heco.sommer.notebooks/heco.sommer.notebooks/lstm_model_eval2.ipynb#ch0000002?line=11'>12</a>\u001b[0m \u001b[39mprint\u001b[39m(\u001b[39mf\u001b[39m\u001b[39m\"\u001b[39m\u001b[39mMSE lstm: \u001b[39m\u001b[39m{\u001b[39;00mmean_squared_error(lstm_val_pred, y_val)\u001b[39m}\u001b[39;00m\u001b[39m\"\u001b[39m)\n\u001b[0;32m     <a href='vscode-notebook-cell:/c%3A/Users/57861/OneDrive%20-%20Hafslund%20Eco/Skrivebord/heco.sommer.notebooks/heco.sommer.notebooks/lstm_model_eval2.ipynb#ch0000002?line=12'>13</a>\u001b[0m \u001b[39mprint\u001b[39m(\u001b[39mf\u001b[39m\u001b[39m\"\u001b[39m\u001b[39mMAE lstm: \u001b[39m\u001b[39m{\u001b[39;00mmean_absolute_error(lstm_val_pred, y_val)\u001b[39m}\u001b[39;00m\u001b[39m\"\u001b[39m)\n\u001b[1;32m---> <a href='vscode-notebook-cell:/c%3A/Users/57861/OneDrive%20-%20Hafslund%20Eco/Skrivebord/heco.sommer.notebooks/heco.sommer.notebooks/lstm_model_eval2.ipynb#ch0000002?line=13'>14</a>\u001b[0m \u001b[39mprint\u001b[39m(\u001b[39mf\u001b[39m\u001b[39m\"\u001b[39m\u001b[39mMSLE lstm: \u001b[39m\u001b[39m{\u001b[39;00mmean_squared_log_error(lstm_val_pred, y_val)\u001b[39m}\u001b[39;00m\u001b[39m\"\u001b[39m)\n\u001b[0;32m     <a href='vscode-notebook-cell:/c%3A/Users/57861/OneDrive%20-%20Hafslund%20Eco/Skrivebord/heco.sommer.notebooks/heco.sommer.notebooks/lstm_model_eval2.ipynb#ch0000002?line=14'>15</a>\u001b[0m \u001b[39mprint\u001b[39m(\u001b[39mf\u001b[39m\u001b[39m\"\u001b[39m\u001b[39mR2 lstm: \u001b[39m\u001b[39m{\u001b[39;00mr2_score(lstm_val_pred, y_val)\u001b[39m}\u001b[39;00m\u001b[39m\"\u001b[39m)\n",
      "File \u001b[1;32mc:\\Users\\57861\\.conda\\envs\\p39_sommer\\lib\\site-packages\\sklearn\\metrics\\_regression.py:525\u001b[0m, in \u001b[0;36mmean_squared_log_error\u001b[1;34m(y_true, y_pred, sample_weight, multioutput, squared)\u001b[0m\n\u001b[0;32m    522\u001b[0m check_consistent_length(y_true, y_pred, sample_weight)\n\u001b[0;32m    524\u001b[0m \u001b[39mif\u001b[39;00m (y_true \u001b[39m<\u001b[39m \u001b[39m0\u001b[39m)\u001b[39m.\u001b[39many() \u001b[39mor\u001b[39;00m (y_pred \u001b[39m<\u001b[39m \u001b[39m0\u001b[39m)\u001b[39m.\u001b[39many():\n\u001b[1;32m--> 525\u001b[0m     \u001b[39mraise\u001b[39;00m \u001b[39mValueError\u001b[39;00m(\n\u001b[0;32m    526\u001b[0m         \u001b[39m\"\u001b[39m\u001b[39mMean Squared Logarithmic Error cannot be used when \u001b[39m\u001b[39m\"\u001b[39m\n\u001b[0;32m    527\u001b[0m         \u001b[39m\"\u001b[39m\u001b[39mtargets contain negative values.\u001b[39m\u001b[39m\"\u001b[39m\n\u001b[0;32m    528\u001b[0m     )\n\u001b[0;32m    530\u001b[0m \u001b[39mreturn\u001b[39;00m mean_squared_error(\n\u001b[0;32m    531\u001b[0m     np\u001b[39m.\u001b[39mlog1p(y_true),\n\u001b[0;32m    532\u001b[0m     np\u001b[39m.\u001b[39mlog1p(y_pred),\n\u001b[1;32m   (...)\u001b[0m\n\u001b[0;32m    535\u001b[0m     squared\u001b[39m=\u001b[39msquared,\n\u001b[0;32m    536\u001b[0m )\n",
      "\u001b[1;31mValueError\u001b[0m: Mean Squared Logarithmic Error cannot be used when targets contain negative values."
     ]
    }
   ],
   "source": [
    "x_data, y_data = lstm(9,12)\n",
    "model = load_lstm()\n",
    "lstm_val_pred = model.predict(x_data)\n",
    "print(lstm_val_pred)\n",
    "evaluate_lstm(lstm_val_pred,y_data)"
   ]
  }
 ],
 "metadata": {
  "kernelspec": {
   "display_name": "Python 3.9.12 ('p39_sommer')",
   "language": "python",
   "name": "python3"
  },
  "language_info": {
   "codemirror_mode": {
    "name": "ipython",
    "version": 3
   },
   "file_extension": ".py",
   "mimetype": "text/x-python",
   "name": "python",
   "nbconvert_exporter": "python",
   "pygments_lexer": "ipython3",
   "version": "3.9.12"
  },
  "orig_nbformat": 4,
  "vscode": {
   "interpreter": {
    "hash": "0a8d2357f8c9ab0bd5f00168acbe48004ca520c58a19fa70219e2bdec9ce91e8"
   }
  }
 },
 "nbformat": 4,
 "nbformat_minor": 2
}
