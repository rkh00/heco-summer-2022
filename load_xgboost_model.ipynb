{
 "cells": [
  {
   "cell_type": "code",
   "execution_count": null,
   "metadata": {},
   "outputs": [],
   "source": [
    "\n",
    "\n",
    "model_xgb = xgb.Booster()\n",
    "model_xgb.load_model(\"model.json\")"
   ]
  }
 ],
 "metadata": {
  "kernelspec": {
   "display_name": "Python 3.9.12 ('p39_sommer')",
   "language": "python",
   "name": "python3"
  },
  "language_info": {
   "name": "python",
   "version": "3.9.12"
  },
  "orig_nbformat": 4,
  "vscode": {
   "interpreter": {
    "hash": "0a8d2357f8c9ab0bd5f00168acbe48004ca520c58a19fa70219e2bdec9ce91e8"
   }
  }
 },
 "nbformat": 4,
 "nbformat_minor": 2
}
