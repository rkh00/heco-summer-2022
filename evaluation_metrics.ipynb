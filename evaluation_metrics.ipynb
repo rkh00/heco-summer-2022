{
 "cells": [
  {
   "cell_type": "code",
   "execution_count": 10,
   "metadata": {},
   "outputs": [
    {
     "name": "stdout",
     "output_type": "stream",
     "text": [
      "0.8153194100953483\n",
      "['accuracy', 'adjusted_mutual_info_score', 'adjusted_rand_score', 'average_precision', 'balanced_accuracy', 'completeness_score', 'explained_variance', 'f1', 'f1_macro', 'f1_micro', 'f1_samples', 'f1_weighted', 'fowlkes_mallows_score', 'homogeneity_score', 'jaccard', 'jaccard_macro', 'jaccard_micro', 'jaccard_samples', 'jaccard_weighted', 'matthews_corrcoef', 'max_error', 'mutual_info_score', 'neg_brier_score', 'neg_log_loss', 'neg_mean_absolute_error', 'neg_mean_absolute_percentage_error', 'neg_mean_gamma_deviance', 'neg_mean_poisson_deviance', 'neg_mean_squared_error', 'neg_mean_squared_log_error', 'neg_median_absolute_error', 'neg_root_mean_squared_error', 'normalized_mutual_info_score', 'precision', 'precision_macro', 'precision_micro', 'precision_samples', 'precision_weighted', 'r2', 'rand_score', 'recall', 'recall_macro', 'recall_micro', 'recall_samples', 'recall_weighted', 'roc_auc', 'roc_auc_ovo', 'roc_auc_ovo_weighted', 'roc_auc_ovr', 'roc_auc_ovr_weighted', 'top_k_accuracy', 'v_measure_score']\n",
      "1.193878165841466\n",
      "3.7773585558202156\n",
      "1.8489179617386178\n"
     ]
    },
    {
     "name": "stderr",
     "output_type": "stream",
     "text": [
      "C:\\Users\\57861\\AppData\\Local\\Temp\\ipykernel_10032\\2786612211.py:12: FutureWarning: In a future version of pandas all arguments of DataFrame.drop except for the argument 'labels' will be keyword-only.\n",
      "  x = np.array(data.drop([predict], 1))\n"
     ]
    }
   ],
   "source": [
    "import numpy as np\n",
    "import pandas as pd\n",
    "from sklearn.linear_model import LinearRegression\n",
    "from sklearn.utils import shuffle\n",
    "from sklearn.metrics import get_scorer_names\n",
    "\n",
    "data = pd.read_csv(\"https://raw.githubusercontent.com/amankharwal/Website-data/master/student-mat.csv\")\n",
    "\n",
    "data = data[[\"G1\", \"G2\", \"G3\", \"studytime\", \"failures\", \"absences\"]]\n",
    "\n",
    "predict = \"G3\"\n",
    "x = np.array(data.drop([predict], 1))\n",
    "y = np.array(data[predict])\n",
    "\n",
    "from sklearn.model_selection import train_test_split\n",
    "xtrain, xtest, ytrain, ytest = train_test_split(x, y, test_size=0.2)\n",
    "\n",
    "linear_regression = LinearRegression()\n",
    "linear_regression.fit(xtrain, ytrain)\n",
    "predictions = linear_regression.predict(xtest)\n",
    "\n",
    "# Calculation of R2 Score\n",
    "from sklearn.model_selection import cross_val_score\n",
    "print(cross_val_score(linear_regression, x, y, cv=10, scoring=\"r2\").mean())\n",
    "print(get_scorer_names())\n",
    "print(-cross_val_score(linear_regression, x, y, cv=10, scoring=\"neg_mean_absolute_error\").mean())\n",
    "print(-cross_val_score(linear_regression, x, y, cv=10, scoring=\"neg_mean_squared_error\").mean())\n",
    "print(-cross_val_score(linear_regression, x, y, cv=10, scoring=\"neg_root_mean_squared_error\").mean())\n",
    "print(np.sqrt(-cross_val_score(linear_regression, x, y, cv=10, scoring=\"neg_mean_squared_log_error\").mean()))"
   ]
  }
 ],
 "metadata": {
  "kernelspec": {
   "display_name": "Python 3.9.12 ('p39_sommer')",
   "language": "python",
   "name": "python3"
  },
  "language_info": {
   "codemirror_mode": {
    "name": "ipython",
    "version": 3
   },
   "file_extension": ".py",
   "mimetype": "text/x-python",
   "name": "python",
   "nbconvert_exporter": "python",
   "pygments_lexer": "ipython3",
   "version": "3.9.12"
  },
  "orig_nbformat": 4,
  "vscode": {
   "interpreter": {
    "hash": "0a8d2357f8c9ab0bd5f00168acbe48004ca520c58a19fa70219e2bdec9ce91e8"
   }
  }
 },
 "nbformat": 4,
 "nbformat_minor": 2
}
