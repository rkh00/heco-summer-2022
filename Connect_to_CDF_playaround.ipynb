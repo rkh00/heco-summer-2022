{
 "cells": [
  {
   "cell_type": "markdown",
   "metadata": {},
   "source": [
    "### Connect to Cognite with OIDC\n",
    "\n",
    "CDF UI:\n",
    "- https://hafslundeco.fusion.cognite.com/\n",
    "- heco-dev\n",
    "\n",
    "Cognite Python SDK:\n",
    "- https://cognite-docs.readthedocs-hosted.com/projects/cognite-sdk-python/en/latest/\n",
    "- `pip install cognite-sdk msal`\n"
   ]
  },
  {
   "cell_type": "code",
   "execution_count": null,
   "metadata": {},
   "outputs": [],
   "source": [
    "import os\n",
    "import pandas as pd\n",
    "import numpy as np\n",
    "\n",
    "from datetime import datetime\n",
    "from msal import PublicClientApplication\n",
    "\n",
    "from cognite.client import CogniteClient\n",
    "from cognite.client.data_classes import TimeSeries, Asset"
   ]
  },
  {
   "cell_type": "code",
   "execution_count": null,
   "metadata": {},
   "outputs": [],
   "source": [
    "# Log-in detaljer\n",
    "TENANT_ID = os.getenv(\"AZURE_TENANT_ID\")\n",
    "CLIENT_ID = os.getenv(\"AZURE_CLIENT_ID\")\n",
    "CDF_CLUSTER = \"az-power-no-northeurope\"\n",
    "COGNITE_PROJECT = \"heco-dev\""
   ]
  },
  {
   "cell_type": "code",
   "execution_count": null,
   "metadata": {},
   "outputs": [],
   "source": [
    "# Code to log-in WIHTOUT client_secret\n",
    "SCOPES = [f\"https://{CDF_CLUSTER}.cognitedata.com/.default\"]\n",
    "\n",
    "AUTHORITY_HOST_URI = \"https://login.microsoftonline.com\"\n",
    "AUTHORITY_URI = AUTHORITY_HOST_URI + \"/\" + TENANT_ID\n",
    "PORT = 53000\n",
    "\n",
    "\n",
    "def authenticate_azure():\n",
    "\n",
    "    app = PublicClientApplication(client_id=CLIENT_ID, authority=AUTHORITY_URI)\n",
    "\n",
    "    # interactive login - make sure you have http://localhost:port in Redirect URI in App Registration as type \"Mobile and desktop applications\"\n",
    "    creds = app.acquire_token_interactive(scopes=SCOPES, port=PORT)\n",
    "    return creds\n",
    "\n",
    "\n",
    "creds = authenticate_azure()\n",
    "\n",
    "client = CogniteClient(\n",
    "    token_url=creds[\"id_token_claims\"][\"iss\"],\n",
    "    token=creds[\"access_token\"],\n",
    "    token_client_id=creds[\"id_token_claims\"][\"aud\"],\n",
    "    project=COGNITE_PROJECT,\n",
    "    base_url=f\"https://{CDF_CLUSTER}.cognitedata.com\",\n",
    "    client_name=\"cognite-python-dev\",\n",
    ")\n",
    "\n",
    "print(client.iam.token.inspect())"
   ]
  },
  {
   "cell_type": "code",
   "execution_count": null,
   "metadata": {},
   "outputs": [],
   "source": [
    "client.time_series.list(limit=1)"
   ]
  },
  {
   "cell_type": "markdown",
   "metadata": {},
   "source": [
    "### Generelle tips\n",
    "- Sjekk at du er i riktig prosjekt: `heco-dev`\n",
    "- Sjekk at du bruker riktig datasett: `uc:006:ml_test`\n",
    "- Sjekk datamodell / assethierarki i GUI\n",
    "    - Den store fordelen med CDF er at du koble sammen forskjellige datakilder og kontekstualisere dem, dvs. sette dem i sammenheng\n",
    "- Husk å konvertere alle tidsstempler til UTC"
   ]
  },
  {
   "cell_type": "markdown",
   "metadata": {},
   "source": [
    "### Playaround\n",
    "- Create a new asset\n",
    "- Create a new timeseries\n",
    "- Write to timeseries\n",
    "- Read data from timeseries"
   ]
  },
  {
   "cell_type": "code",
   "execution_count": null,
   "metadata": {},
   "outputs": [],
   "source": [
    "# Create an asset\n",
    "asset_name = \"NO1_test\"\n",
    "client.assets.create([Asset(\n",
    "    external_id=asset_name,\n",
    "    name=asset_name,\n",
    "    data_set_id=client.data_sets.retrieve(external_id=\"uc:006:ml_test\").id,\n",
    ")])"
   ]
  },
  {
   "cell_type": "code",
   "execution_count": 16,
   "metadata": {},
   "outputs": [
    {
     "data": {
      "text/html": [
       "<div>\n",
       "<style scoped>\n",
       "    .dataframe tbody tr th:only-of-type {\n",
       "        vertical-align: middle;\n",
       "    }\n",
       "\n",
       "    .dataframe tbody tr th {\n",
       "        vertical-align: top;\n",
       "    }\n",
       "\n",
       "    .dataframe thead th {\n",
       "        text-align: right;\n",
       "    }\n",
       "</style>\n",
       "<table border=\"1\" class=\"dataframe\">\n",
       "  <thead>\n",
       "    <tr style=\"text-align: right;\">\n",
       "      <th></th>\n",
       "      <th>value</th>\n",
       "    </tr>\n",
       "  </thead>\n",
       "  <tbody>\n",
       "    <tr>\n",
       "      <th>id</th>\n",
       "      <td>2661217891469451</td>\n",
       "    </tr>\n",
       "    <tr>\n",
       "      <th>external_id</th>\n",
       "      <td>NO1_generation_test_series_2022-05-20 12:00:00</td>\n",
       "    </tr>\n",
       "    <tr>\n",
       "      <th>name</th>\n",
       "      <td>NO1_generation_test_series_2022-05-20 12:00:00</td>\n",
       "    </tr>\n",
       "    <tr>\n",
       "      <th>is_string</th>\n",
       "      <td>False</td>\n",
       "    </tr>\n",
       "    <tr>\n",
       "      <th>unit</th>\n",
       "      <td>MWh/h</td>\n",
       "    </tr>\n",
       "    <tr>\n",
       "      <th>asset_id</th>\n",
       "      <td>2214652300307805</td>\n",
       "    </tr>\n",
       "    <tr>\n",
       "      <th>is_step</th>\n",
       "      <td>False</td>\n",
       "    </tr>\n",
       "    <tr>\n",
       "      <th>security_categories</th>\n",
       "      <td>[]</td>\n",
       "    </tr>\n",
       "    <tr>\n",
       "      <th>data_set_id</th>\n",
       "      <td>788450409833218</td>\n",
       "    </tr>\n",
       "    <tr>\n",
       "      <th>created_time</th>\n",
       "      <td>1655809271139</td>\n",
       "    </tr>\n",
       "    <tr>\n",
       "      <th>last_updated_time</th>\n",
       "      <td>1655809271139</td>\n",
       "    </tr>\n",
       "  </tbody>\n",
       "</table>\n",
       "</div>"
      ],
      "text/plain": [
       "<cognite.client.data_classes.time_series.TimeSeries at 0x217c9c66280>"
      ]
     },
     "execution_count": 16,
     "metadata": {},
     "output_type": "execute_result"
    }
   ],
   "source": [
    "# Create a new timeseries connected to asset `NO1`\n",
    "forecast_date = datetime(2022, 5, 20, 12, 0, 0, 0).replace(microsecond=0)\n",
    "name = f\"NO1_generation_test_series_{forecast_date}\"\n",
    "\n",
    "client.time_series.create(\n",
    "    time_series=TimeSeries(\n",
    "        external_id=name,\n",
    "        asset_id=client.assets.retrieve(external_id=\"NO1_test\").id,\n",
    "        name=name,\n",
    "        unit=\"MWh/h\",\n",
    "        data_set_id=client.data_sets.retrieve(external_id=\"uc:006:ml_test\").id\n",
    "        )\n",
    "    )\n"
   ]
  },
  {
   "cell_type": "code",
   "execution_count": 20,
   "metadata": {},
   "outputs": [],
   "source": [
    "# Write datapoints to timeseries\n",
    "# Tuple of datetime and value, remember time is given in UTC\n",
    "datapoints = [\n",
    "    (datetime(2022,6,20,9), 0),\n",
    "    (datetime(2022,6,20,9,58), 5),\n",
    "    (datetime(2022,6,20,10), 30),\n",
    "    (datetime(2022,6,20,10,50), 24),\n",
    "    (datetime(2022,6,20,11,50), 0),\n",
    "]   \n",
    "\n",
    "client.datapoints.insert(datapoints, id=client.time_series.retrieve(external_id=\"NO1_generation_test_series_2022-05-20 12:00:00\").id)"
   ]
  },
  {
   "cell_type": "code",
   "execution_count": 22,
   "metadata": {},
   "outputs": [
    {
     "name": "stdout",
     "output_type": "stream",
     "text": [
      "                     2661217891469451|average  2661217891469451|sum\n",
      "2022-06-20 09:00:00                       3.0                   5.0\n",
      "2022-06-20 10:00:00                      27.0                  54.0\n",
      "2022-06-20 11:00:00                       0.0                   0.0\n"
     ]
    }
   ],
   "source": [
    "# Get datapoints in pandas dataframe\n",
    "df = client.datapoints.retrieve_dataframe(\n",
    "    start=datetime(2022, 6, 20),\n",
    "    end=datetime(2022, 6, 21),\n",
    "    aggregates=[\"average\", \"sum\"],\n",
    "    granularity=\"1h\",\n",
    "    id=client.time_series.retrieve(external_id=\"NO1_generation_test_series_2022-05-20 12:00:00\").id,\n",
    ")\n",
    "print(df)"
   ]
  },
  {
   "cell_type": "code",
   "execution_count": null,
   "metadata": {},
   "outputs": [],
   "source": []
  }
 ],
 "metadata": {
  "interpreter": {
   "hash": "b22b41d84d3086e69fcbe5bdc54c6fcd0dbb0d63b79d090ad801ea0eaf8e0d8d"
  },
  "kernelspec": {
   "display_name": "Python 3.9.12 ('p39_cognite')",
   "language": "python",
   "name": "python3"
  },
  "language_info": {
   "codemirror_mode": {
    "name": "ipython",
    "version": 3
   },
   "file_extension": ".py",
   "mimetype": "text/x-python",
   "name": "python",
   "nbconvert_exporter": "python",
   "pygments_lexer": "ipython3",
   "version": "3.9.12"
  },
  "orig_nbformat": 4
 },
 "nbformat": 4,
 "nbformat_minor": 2
}
